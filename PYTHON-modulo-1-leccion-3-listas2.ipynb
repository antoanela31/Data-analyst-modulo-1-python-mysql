{
 "cells": [
  {
   "attachments": {},
   "cell_type": "markdown",
   "metadata": {},
   "source": [
    "Ejercicio 3 listas:"
   ]
  },
  {
   "attachments": {},
   "cell_type": "markdown",
   "metadata": {},
   "source": [
    "En el juego de hoy vamos a crear una lista con números aleatorios, de cierta longitud, definida en una variable numérica longitud_lista, y entre los límites (numéricos) lim_inferior y lim_superior. La usuaria tiene un intento de adivinar un número de la lista, y si ha acertado devuelve el (primer) índice en que estaba. Al final del juego imprimimos la lista aleatoria para que el usuario la vea. Haz que vuestro output coincida con el resultado de abajo. Como siempre, el código de la plantilla no hay que entenderlo."
   ]
  },
  {
   "cell_type": "code",
   "execution_count": 5,
   "metadata": {},
   "outputs": [
    {
     "name": "stdout",
     "output_type": "stream",
     "text": [
      "¡Comenzamos el juego!\n",
      "La lista aleatoria tiene 4 entre 2 a 10\n",
      "El usuario adivinó: 5\n",
      "-> ¿Estaba en la lista aleatoria?\n",
      "True\n",
      "Estaba en el sitio 2, índice 1.\n",
      "Terminamos el juego. La lista era [4, 5, 3, 2]\n"
     ]
    }
   ],
   "source": [
    "import math\n",
    "import random\n",
    "\n",
    "# Variables numéricas\n",
    "index = -1\n",
    "num_list = list(int(num) for num in input('Lista de números separada por espacios:').strip().split())\n",
    "lim_inferior = 2\n",
    "lim_superior = 10\n",
    "len_ = len(num_list)\n",
    "\n",
    "# Cadenas fijas de texto\n",
    "bienvenida = '¡Comenzamos el juego!'\n",
    "adivina = 'es tu momento, adivina un número'\n",
    "\n",
    "# User input\n",
    "numero = int(input('Elige un numero'))\n",
    "\n",
    "# Cantidades calculadas\n",
    "intentos_permitidos = round(math.log(lim_superior - lim_inferior + 1,2))\n",
    "numero_secreto = random.randint(lim_inferior,lim_superior)\n",
    "\n",
    "# Inicio del juego\n",
    "print('¡Comenzamos el juego!')\n",
    "print('La lista aleatoria tiene',len_,'entre',lim_inferior,'a',lim_superior)\n",
    "\n",
    "# Adivinar 1 intento\n",
    "adivina = 'es tu momento, adivina un número'\n",
    "print ('El usuario adivinó:',numero)\n",
    "print('-> ¿Estaba en la lista aleatoria?')\n",
    "\n",
    "bool_intento = numero in num_list\n",
    "print(bool_intento)\n",
    "if num_list.count(numero): \n",
    "    index = num_list.index(numero)\n",
    "if index >= 0:print(\"Estaba en el sitio\", str(index+1) + \", índice\", str(index)+\".\")\n",
    "\n",
    "# Fin del juego\n",
    "print('Terminamos el juego. La lista era',num_list)"
   ]
  }
 ],
 "metadata": {
  "kernelspec": {
   "display_name": "Python 3",
   "language": "python",
   "name": "python3"
  },
  "language_info": {
   "codemirror_mode": {
    "name": "ipython",
    "version": 3
   },
   "file_extension": ".py",
   "mimetype": "text/x-python",
   "name": "python",
   "nbconvert_exporter": "python",
   "pygments_lexer": "ipython3",
   "version": "3.6.9 (default, Mar 15 2022, 13:55:28) \n[GCC 8.4.0]"
  },
  "orig_nbformat": 4,
  "vscode": {
   "interpreter": {
    "hash": "31f2aee4e71d21fbe5cf8b01ff0e069b9275f58929596ceb00d14d90e3e16cd6"
   }
  }
 },
 "nbformat": 4,
 "nbformat_minor": 2
}
