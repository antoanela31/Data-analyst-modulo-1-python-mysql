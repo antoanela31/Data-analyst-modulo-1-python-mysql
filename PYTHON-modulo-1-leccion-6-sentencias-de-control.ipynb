{
 "cells": [
  {
   "attachments": {},
   "cell_type": "markdown",
   "metadata": {},
   "source": [
    "Ejercicio leccion 6 sentencias de control"
   ]
  },
  {
   "attachments": {},
   "cell_type": "markdown",
   "metadata": {},
   "source": [
    "Ejercicio 1\n",
    "\n",
    "En la escuela donde trabajamos tienen el siguiente sistema de notas:\n",
    "- Below 25 - F\n",
    "- 25 to 45 - E\n",
    "- 45 to 50 - D\n",
    "- 50 to 60 - C\n",
    "- 60 to 80 - B\n",
    "- Above 80 - A\n",
    "\n",
    "El objetivo de este ejercicio es que le preguntéis al usuario por una nota (numérica) y nosotros le devolvamos la nota con la letra que le corresponde."
   ]
  },
  {
   "cell_type": "code",
   "execution_count": 1,
   "metadata": {},
   "outputs": [
    {
     "name": "stdout",
     "output_type": "stream",
     "text": [
      "3\n"
     ]
    }
   ],
   "source": [
    "# Definición de variable x: \n",
    "x = int(input ('Número entre el 0 al 100'))\n",
    "\n",
    "# Si utilizamos variables en vex de comparaciones de x, no nos imprime nada en la condición\n",
    "F = x < 25\n",
    "E = 25 <= x < 45\n",
    "D = 45 <= x < 50\n",
    "C = 50 <= x < 60\n",
    "B = 60 <= x < 80\n",
    "A = x >= 80\n",
    "\n",
    "print (x)\n"
   ]
  },
  {
   "cell_type": "code",
   "execution_count": 2,
   "metadata": {},
   "outputs": [
    {
     "name": "stdout",
     "output_type": "stream",
     "text": [
      "Tu nota es F\n"
     ]
    }
   ],
   "source": [
    "# Hacemos la condición para saber qué letra corresponde con la nota:\n",
    "if x < 25:\n",
    "    print (\"Tu nota es F\")\n",
    "elif 25 <= x < 45:\n",
    "    print (\"Tu nota es E\")\n",
    "elif 45 <= x < 50:\n",
    "    print (\"Tu nota es D\")\n",
    "elif 50 <= x < 60:\n",
    "    print (\"Tu nota es C\")\n",
    "elif 60 <= x < 80:\n",
    "    print (\"Tu nota es B\")\n",
    "elif x >= 80:\n",
    "    print (\"Tu nota es A\")"
   ]
  },
  {
   "attachments": {},
   "cell_type": "markdown",
   "metadata": {},
   "source": [
    "Ejercicio 2\n",
    "\n",
    "Cread tres inputs donde a cada uno de ellos le preguntéis su edad, el objetivo del ejercicio es determinar quien es el más viejo y el más joven."
   ]
  },
  {
   "cell_type": "code",
   "execution_count": 3,
   "metadata": {},
   "outputs": [],
   "source": [
    "# Definicición variables\n",
    "edad_persona1 = int(input (\"¿Cual es tu edad?\"))\n",
    "edad_persona2 = int(input (\"¿Cual es tu edad?\"))\n",
    "edad_persona3 = int(input (\"¿Cual es tu edad?\"))"
   ]
  },
  {
   "cell_type": "code",
   "execution_count": 4,
   "metadata": {},
   "outputs": [
    {
     "name": "stdout",
     "output_type": "stream",
     "text": [
      "23 23 34\n"
     ]
    }
   ],
   "source": [
    "print(edad_persona1, edad_persona2, edad_persona3)"
   ]
  },
  {
   "cell_type": "code",
   "execution_count": 5,
   "metadata": {},
   "outputs": [
    {
     "name": "stdout",
     "output_type": "stream",
     "text": [
      "Persona 1, eres el más joven\n",
      "Persona 3, eres el más viejo\n"
     ]
    }
   ],
   "source": [
    "if edad_persona1 <= edad_persona2 and edad_persona1 <= edad_persona3:\n",
    "    print (\"Persona 1, eres el más joven\")\n",
    "elif edad_persona2 <= edad_persona1 and edad_persona2 <= edad_persona3:\n",
    "    print ('Persona 2, eres el más joven')\n",
    "elif edad_persona3 <= edad_persona1 and edad_persona3 <= edad_persona2:\n",
    "    print ('Persona 3, eres el más joven')\n",
    "\n",
    "if edad_persona1 >= edad_persona2 and edad_persona1 >= edad_persona3:\n",
    "    print (\"Persona 1, eres el más viejo\")\n",
    "elif edad_persona2 >= edad_persona1 and edad_persona2 >= edad_persona3:\n",
    "    print ('Persona 2, eres el más viejo')\n",
    "elif edad_persona3 >= edad_persona1 and edad_persona3 >= edad_persona2:\n",
    "    print ('Persona 3, eres el más viejo')\n"
   ]
  },
  {
   "attachments": {},
   "cell_type": "markdown",
   "metadata": {},
   "source": [
    "Ejercicio 3\n",
    "\n",
    "Escribid un programa que pregunte el nombre del usuario a través de la función input(). Si el nombre es \"Bond\" haced que imprima \"Bienvenido a bordo de 007\". En caso contrario haced que imprima \"Buenos días NOMBRE\". (Reemplace NOMBRE por el nombre del usuario)."
   ]
  },
  {
   "cell_type": "code",
   "execution_count": 6,
   "metadata": {},
   "outputs": [
    {
     "name": "stdout",
     "output_type": "stream",
     "text": [
      "Buenos días anto\n"
     ]
    }
   ],
   "source": [
    "# Definición de variable nombre:\n",
    "nombre = input ('¿Cuál es tu nombre?')\n",
    "\n",
    "if nombre == 'Bond':\n",
    "    print ('Bienvenido a bordo de 007')\n",
    "else:\n",
    "    print ('Buenos días', nombre)"
   ]
  },
  {
   "attachments": {},
   "cell_type": "markdown",
   "metadata": {},
   "source": [
    "Ejercicio 4\n",
    "\n",
    "arbol es un diccionario que muestra el número de árboles de países por kilómetro cuadrado para países aleatorios con un número considerable de población. Crea una lista llamada \"masarboles\" que contenga el nombre de los países con más de 20.000 árboles por kilómetro cuadrado.\n",
    "tree = {\"Taiwan\": 69593,\n",
    "        \"Japan\": 49894, \n",
    "        \"Russia\": 41396, \n",
    "        \"Canada\": 36388, \n",
    "        \"Bulgaria\":"
   ]
  },
  {
   "cell_type": "code",
   "execution_count": 7,
   "metadata": {},
   "outputs": [
    {
     "data": {
      "text/plain": [
       "69593"
      ]
     },
     "execution_count": 7,
     "metadata": {},
     "output_type": "execute_result"
    }
   ],
   "source": [
    "tree = {\"Taiwan\": 69593,\n",
    "        \"Japan\": 49894, \n",
    "        \"Russia\": 41396, \n",
    "        \"Canada\": 36388, \n",
    "        \"Bulgaria\": 24987}\n",
    "\n",
    "tree['Taiwan'] # Podemos llegar al valor numérico (value), a partir del key del diccionario"
   ]
  },
  {
   "cell_type": "code",
   "execution_count": 8,
   "metadata": {},
   "outputs": [],
   "source": [
    "# Creamos una lista vacía en la que iremos añadiendo los países en caso que cumplan la condición\n",
    "masarboles = []\n",
    "if tree['Taiwan'] > 20000:\n",
    "    masarboles.append('Taiwan')\n",
    "if tree['Japan'] > 20000:\n",
    "    masarboles.append('Japan')\n",
    "if tree['Russia'] > 20000:\n",
    "    masarboles.append('Russia')\n",
    "if tree['Canada'] > 20000:\n",
    "    masarboles.append('Canada')\n",
    "if tree['Bulgaria'] > 20000:\n",
    "    masarboles.append('Bulgaria')"
   ]
  },
  {
   "cell_type": "code",
   "execution_count": 9,
   "metadata": {},
   "outputs": [
    {
     "name": "stdout",
     "output_type": "stream",
     "text": [
      "['Taiwan', 'Japan', 'Russia', 'Canada', 'Bulgaria']\n"
     ]
    }
   ],
   "source": [
    "print(masarboles)"
   ]
  },
  {
   "attachments": {},
   "cell_type": "markdown",
   "metadata": {},
   "source": [
    " Ejercicio 5\n",
    "\n",
    "Los alumnos de un curso se han dividido en dos grupos A y B de acuerdo al sexo y el nombre. El grupo A esta formado por las mujeres con un nombre anterior a la M y los hombres con un nombre posterior a la N y el grupo B por el resto. Escribid un programa que pregunte al usuario su nombre y sexo, y muestre por pantalla el grupo que le corresponde."
   ]
  },
  {
   "cell_type": "code",
   "execution_count": 10,
   "metadata": {},
   "outputs": [
    {
     "name": "stdout",
     "output_type": "stream",
     "text": [
      "['anto', 'femenino']\n"
     ]
    }
   ],
   "source": [
    "# Preguntando nombre y sexo al usuario\n",
    "nombreysexo = input ('Especifica tu nombre y sexo en formato nombre-sexo(femenino-masculino)')\n",
    "listname = nombreysexo.split('-')\n",
    "print (listname)\n"
   ]
  },
  {
   "cell_type": "code",
   "execution_count": 11,
   "metadata": {},
   "outputs": [],
   "source": [
    "listleter = list(listname[0]) #Accedemos al índice 0 de la lista, es decir, al nombre de la persona"
   ]
  },
  {
   "cell_type": "code",
   "execution_count": 12,
   "metadata": {},
   "outputs": [
    {
     "data": {
      "text/plain": [
       "'a'"
      ]
     },
     "execution_count": 12,
     "metadata": {},
     "output_type": "execute_result"
    }
   ],
   "source": [
    "listleter [0] #Accedemos a la primera letra del nombre"
   ]
  },
  {
   "cell_type": "code",
   "execution_count": 13,
   "metadata": {},
   "outputs": [],
   "source": [
    "str1 = 'abcdefghijklm' # Creamos dos strings para que contengan las letras que nos dice el enunciado\n",
    "str2 = 'nopqrstuvwxyz'"
   ]
  },
  {
   "cell_type": "code",
   "execution_count": 14,
   "metadata": {},
   "outputs": [
    {
     "name": "stdout",
     "output_type": "stream",
     "text": [
      "Perteneces al grupo A\n"
     ]
    }
   ],
   "source": [
    "#       Creamos un condicional en el que nos separe por grupo segun inicial del nombre que encontramos\n",
    "#       en [listleter[0]] y según sexo, que encontramos definido en [listname1]. Como este último solo\n",
    "#       puede ser masculino o femenino, podemos hacer una comparación de tipo ==.\n",
    "if (listleter[0] in str1 and listname[1] == 'femenino') or (listleter[0] in str2 and listname[1] == 'masculino'):\n",
    "    print('Perteneces al grupo A')\n",
    "else:\n",
    "    print('Perteneces al grupo B')"
   ]
  },
  {
   "attachments": {},
   "cell_type": "markdown",
   "metadata": {},
   "source": [
    "Ejercicio 6\n",
    "\n",
    "Escribid un programa que:\n",
    "- Dada la variable z con valor 0, es decir z = 0.\n",
    "- Mientras que el valor de z sea menor que 3:\n",
    "  - Si el valor de z es igual a 0:\n",
    "    - Printead el valor de z\n",
    "    - Almancenad el valor en una lista auxiliar\n",
    "    - Sumadle 1 al valor de z\n",
    "  - Si el valor de z es igual a 1:\n",
    "    - Printead el valor de z\n",
    "    - Almancenad el valor en una lista auxiliar\n",
    "    - Sumadle 1 al valor de z\n",
    "  - En caso de que no se cumplan las condiciones anteriores:\n",
    "    - Printead el valor de z\n",
    "    - Sumadle 1 al valor de z"
   ]
  },
  {
   "cell_type": "code",
   "execution_count": 15,
   "metadata": {},
   "outputs": [
    {
     "name": "stdout",
     "output_type": "stream",
     "text": [
      "0\n",
      "1\n",
      "2\n"
     ]
    }
   ],
   "source": [
    "z = 0\n",
    "list_z = []\n",
    "while z < 3:\n",
    "    if z == 0:\n",
    "        print(z)\n",
    "        list_z.append(z)\n",
    "        z += 1\n",
    "    if z == 1:\n",
    "        print(z)\n",
    "        list_z.append(z)\n",
    "        z += 1\n",
    "    else:\n",
    "        print(z)\n",
    "        z += 1"
   ]
  },
  {
   "attachments": {},
   "cell_type": "markdown",
   "metadata": {},
   "source": [
    "Ejercicio 7\n",
    "\n",
    "El objetivo de este ejercicio es añadir elementos a una lista utilizando el bucle while:\n",
    "- Cread una lista vacía\n",
    "- Cread una variable cuyo valor sea 0\n",
    "- Mientras que la longitud de la lista creada en el primer paso sea menor que 4:\n",
    "  - Apendead el valor de la variable creada en el paso 2\n",
    "  - Sumad 1 a la variable creada en el paso 2\n",
    "- Por último, printead los valores que hemos añadido en la lista vacía (ya no lo estaría)"
   ]
  },
  {
   "cell_type": "code",
   "execution_count": 16,
   "metadata": {},
   "outputs": [
    {
     "name": "stdout",
     "output_type": "stream",
     "text": [
      "[0, 1, 2, 3]\n"
     ]
    }
   ],
   "source": [
    "lista_vacia = []\n",
    "variable = 0\n",
    "\n",
    "while len(lista_vacia) < 4:\n",
    "    lista_vacia.append(variable)\n",
    "    variable += 1\n",
    "print (lista_vacia)"
   ]
  },
  {
   "attachments": {},
   "cell_type": "markdown",
   "metadata": {},
   "source": [
    "Ejercicio 8\n",
    "\n",
    "El objetivo de este ejercicio es encontrar la suma de números en una lista usando el bucle while:\n",
    "- Cread una variable cuyo valor sea 0, llamadla \"i\"\n",
    "- Cread una lista que contenga los siguientes números: 23,45,12,10,25\n",
    "- Cread una variable cuyo valor sea 0, llamadla \"suma\"\n",
    "- Mientras que el valor de la variable \"i\" sea menor que la longitud de la lista:\n",
    "  - Sumad elemento a elemento los valores de la lista. Es decir, el primero con el segundo; el resultado de la suma anterior más el tercer número, etc\n",
    "  - Sumad 1 a la variable \"i\" por cada iteración por el bucle while\n",
    "- El resultado esperado es 115."
   ]
  },
  {
   "cell_type": "code",
   "execution_count": 17,
   "metadata": {},
   "outputs": [
    {
     "name": "stdout",
     "output_type": "stream",
     "text": [
      "115\n"
     ]
    }
   ],
   "source": [
    "i = 0\n",
    "list_num = [23, 45, 12, 10, 25]\n",
    "suma = 0\n",
    "\n",
    "while i < len(list_num):\n",
    "    suma = list_num[0] + list_num[1] + list_num[2] + list_num[3] + list_num [4]\n",
    "    i += 1\n",
    "print(suma)"
   ]
  },
  {
   "attachments": {},
   "cell_type": "markdown",
   "metadata": {},
   "source": [
    "Ejercicio 9\n",
    "\n",
    "Escribid un programa para una empresa que tiene salas de juegos para todas las edades y quiere calcular de forma automática el precio que debe cobrar a sus clientes por entrar. El programa debe preguntar al usuario la edad del cliente y mostrar el precio de la entrada. Si el cliente es menor de 4 años puede entrar gratis, si tiene entre 4 y 18 años debe pagar 5€ y si es mayor de 18 años, 10€."
   ]
  },
  {
   "cell_type": "code",
   "execution_count": 18,
   "metadata": {},
   "outputs": [
    {
     "name": "stdout",
     "output_type": "stream",
     "text": [
      "Tu entrada cuesta 10€\n"
     ]
    }
   ],
   "source": [
    "edad = int(input ('¿Qué edad tienes?'))\n",
    "\n",
    "if edad < 4:\n",
    "    print('Tu entrada es gratuita por ser menor de 4 años')\n",
    "if 4 < edad < 18:\n",
    "    print ('Tu entrada cuesta 5€')\n",
    "if edad >= 18:\n",
    "    print ('Tu entrada cuesta 10€')"
   ]
  },
  {
   "attachments": {},
   "cell_type": "markdown",
   "metadata": {},
   "source": [
    "Ejercicio 10\n",
    "\n",
    "La pizzería Bella Napoli ofrece pizzas vegetarianas y no vegetarianas a sus clientes. Los ingredientes para cada tipo de pizza aparecen a continuación.\n",
    "Ingredientes vegetarianos: Pimiento y tofu.\n",
    "Ingredientes no vegetarianos: Peperoni, Jamón y Salmón.\n",
    "Escribid un programa que pregunte al usuario si quiere una pizza vegetariana o no, y en función de su respuesta le muestre un menú con los ingredientes disponibles para que elija. Solo se puede eligir un ingrediente además de la mozzarella y el tomate que están en todas la pizzas. Al final se debe mostrar por pantalla si la pizza elegida es vegetariana o no y todos los ingredientes que lleva."
   ]
  },
  {
   "cell_type": "code",
   "execution_count": 19,
   "metadata": {},
   "outputs": [
    {
     "name": "stdout",
     "output_type": "stream",
     "text": [
      "Pimiento y tofu.\n",
      "['Mozzarela', 'Tomate', 'tomate']\n"
     ]
    }
   ],
   "source": [
    "Ingredientes_vegetarianos = 'Pimiento y tofu.'\n",
    "Ingredientes_no_vegetarianos = 'Peperoni, Jamón y Salmón.'\n",
    "\n",
    "cliente = input('¿Quieres la pizza vegetariana? Responde con si o no')\n",
    "eleccion = ['Mozzarela','Tomate']\n",
    "\n",
    "if cliente == 'si':\n",
    "    print(Ingredientes_vegetarianos)\n",
    "    elige = (input('Elige los ingredientes'))\n",
    "    eleccion.append(elige)\n",
    "else:\n",
    "    print(Ingredientes_no_vegetarianos)\n",
    "    elige = (input('Elige los ingredientes'))\n",
    "    eleccion.append(elige)\n",
    "print(eleccion)"
   ]
  }
 ],
 "metadata": {
  "kernelspec": {
   "display_name": "base",
   "language": "python",
   "name": "python3"
  },
  "language_info": {
   "codemirror_mode": {
    "name": "ipython",
    "version": 3
   },
   "file_extension": ".py",
   "mimetype": "text/x-python",
   "name": "python",
   "nbconvert_exporter": "python",
   "pygments_lexer": "ipython3",
   "version": "3.9.7 (default, Sep 16 2021, 13:09:58) \n[GCC 7.5.0]"
  },
  "orig_nbformat": 4,
  "vscode": {
   "interpreter": {
    "hash": "e52e54b208979dc3580fb1371da7079de391a2363b0575de5d9739fd636c0787"
   }
  }
 },
 "nbformat": 4,
 "nbformat_minor": 2
}
