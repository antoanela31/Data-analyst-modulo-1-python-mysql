{
 "cells": [
  {
   "cell_type": "markdown",
   "metadata": {},
   "source": [
    "Ejercicio pair programming 2 listas:\n"
   ]
  },
  {
   "cell_type": "code",
   "execution_count": 27,
   "metadata": {},
   "outputs": [
    {
     "name": "stdout",
     "output_type": "stream",
     "text": [
      "Comenzamos el juego!\n",
      "La lista facilitada por el usuario es:  [3, 4, 5, 6]\n",
      "Tiene  4 elementos entre  3 a  6 .\n",
      "Han adivinado el número secreto? \n",
      " True\n",
      "Terminamos el juego. El numero era 5\n"
     ]
    }
   ],
   "source": [
    "import random\n",
    "\n",
    "# Variables numéricas\n",
    "lim_inferior = 3\n",
    "lim_superior = 6\n",
    "\n",
    "# Cadenas fijas de texto\n",
    "x = \"Comenzamos el juego!\"\n",
    "str_input = \"Lista de números, separado por espacios: \"\n",
    "\n",
    "# User input\n",
    "num_list = list(int(num) for num in input(str_input).strip().split())\n",
    "\n",
    "# Cantidades calculadas\n",
    "numero_secreto = random.randint(lim_inferior,lim_superior)\n",
    "\n",
    "# Inicio del juego\n",
    "print(x)\n",
    "\n",
    "# Propiedades de la lista\n",
    "print(\"La lista facilitada por el usuario es: \", num_list)\n",
    "print(\"Tiene \", len(num_list), \"elementos entre \", min(num_list), \"a \", max(num_list), \".\")\n",
    "\n",
    "# Han adivinado el número secreto?\n",
    "print(\"Han adivinado el número secreto?\", \"\\n\", numero_secreto in num_list)\n",
    "\n",
    "# Fin del juego\n",
    "print(\"Terminamos el juego. El numero era\", numero_secreto) "
   ]
  }
 ],
 "metadata": {
  "kernelspec": {
   "display_name": "Python 3.10.5 64-bit (windows store)",
   "language": "python",
   "name": "python3"
  },
  "language_info": {
   "codemirror_mode": {
    "name": "ipython",
    "version": 3
   },
   "file_extension": ".py",
   "mimetype": "text/x-python",
   "name": "python",
   "nbconvert_exporter": "python",
   "pygments_lexer": "ipython3",
   "version": "3.10.5"
  },
  "orig_nbformat": 4,
  "vscode": {
   "interpreter": {
    "hash": "16a6203e80ab692cd59eb2fed3c5840057343ed93097c3c3229af5f56100ad25"
   }
  }
 },
 "nbformat": 4,
 "nbformat_minor": 2
}
