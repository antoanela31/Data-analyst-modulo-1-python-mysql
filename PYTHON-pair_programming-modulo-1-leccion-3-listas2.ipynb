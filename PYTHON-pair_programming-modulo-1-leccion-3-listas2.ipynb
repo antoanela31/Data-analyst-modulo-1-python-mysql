{
 "cells": [
  {
   "cell_type": "markdown",
   "metadata": {},
   "source": [
    "Ejercicio pair programmig 3 listas:"
   ]
  },
  {
   "cell_type": "code",
   "execution_count": 5,
   "metadata": {},
   "outputs": [
    {
     "name": "stdout",
     "output_type": "stream",
     "text": [
      "¡Comenzamos el juego!\n",
      "La lista aleatoria tiene 4 entre 2 a 10\n",
      "El usuario adivinó: 5\n",
      "-> ¿Estaba en la lista aleatoria?\n",
      "True\n",
      "Estaba en el sitio 2, índice 1.\n",
      "Terminamos el juego. La lista era [4, 5, 3, 2]\n"
     ]
    }
   ],
   "source": [
    "import math\n",
    "import random\n",
    "\n",
    "# Variables numéricas\n",
    "index = -1\n",
    "num_list = list(int(num) for num in input('Lista de números separada por espacios:').strip().split())\n",
    "lim_inferior = 2\n",
    "lim_superior = 10\n",
    "len_ = len(num_list)\n",
    "\n",
    "# Cadenas fijas de texto\n",
    "bienvenida = '¡Comenzamos el juego!'\n",
    "adivina = 'es tu momento, adivina un número'\n",
    "\n",
    "# User input\n",
    "numero = int(input('Elige un numero'))\n",
    "\n",
    "# Cantidades calculadas\n",
    "intentos_permitidos = round(math.log(lim_superior - lim_inferior + 1,2))\n",
    "numero_secreto = random.randint(lim_inferior,lim_superior)\n",
    "\n",
    "# Inicio del juego\n",
    "print('¡Comenzamos el juego!')\n",
    "print('La lista aleatoria tiene',len_,'entre',lim_inferior,'a',lim_superior)\n",
    "\n",
    "# Adivinar 1 intento\n",
    "adivina = 'es tu momento, adivina un número'\n",
    "print ('El usuario adivinó:',numero)\n",
    "print('-> ¿Estaba en la lista aleatoria?')\n",
    "\n",
    "bool_intento = numero in num_list\n",
    "print(bool_intento)\n",
    "if num_list.count(numero): \n",
    "    index = num_list.index(numero)\n",
    "if index >= 0:print(\"Estaba en el sitio\", str(index+1) + \", índice\", str(index)+\".\")\n",
    "\n",
    "# Fin del juego\n",
    "print('Terminamos el juego. La lista era',num_list)"
   ]
  }
 ],
 "metadata": {
  "kernelspec": {
   "display_name": "Python 3.9.7 ('base')",
   "language": "python",
   "name": "python3"
  },
  "language_info": {
   "codemirror_mode": {
    "name": "ipython",
    "version": 3
   },
   "file_extension": ".py",
   "mimetype": "text/x-python",
   "name": "python",
   "nbconvert_exporter": "python",
   "pygments_lexer": "ipython3",
   "version": "3.9.7"
  },
  "orig_nbformat": 4,
  "vscode": {
   "interpreter": {
    "hash": "40d3a090f54c6569ab1632332b64b2c03c39dcf918b08424e98f38b5ae0af88f"
   }
  }
 },
 "nbformat": 4,
 "nbformat_minor": 2
}
