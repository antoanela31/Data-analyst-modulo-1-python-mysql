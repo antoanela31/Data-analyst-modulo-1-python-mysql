{
 "cells": [
  {
   "cell_type": "markdown",
   "metadata": {},
   "source": [
    "Ejercicio pair programming 4 diccionarios:"
   ]
  },
  {
   "cell_type": "code",
   "execution_count": 1,
   "metadata": {},
   "outputs": [
    {
     "name": "stdout",
     "output_type": "stream",
     "text": [
      "--¡Comienza el juego!--\n",
      "Elige una de las siguientes categorias, usando su número\n",
      "{1: 'Colors', 2: 'Shapes', 3: 'Fruits', 4: 'Animals'}\n",
      "Elegiste la categoria 2\n",
      "Adivina la palabra de la categoría\n",
      "['square', 'triangle', 'rectangle', 'circle', 'ellipse', 'rhombus', 'trapezoid', 'chevron', 'pentagon', 'hexagon', 'septagon', 'octagon']\n",
      "Elegiste la palabra square\n",
      "¿Era la palabra que buscabamos?\n",
      "False\n",
      "-- El juego ha terminado, la palabra era rhombus --\n"
     ]
    }
   ],
   "source": [
    "import random\n",
    "\n",
    "words = {'Colors':'red orange yellow green blue indigo violet white black brown'.split(),\n",
    "'Shapes':'square triangle rectangle circle ellipse rhombus trapezoid chevron pentagon hexagon septagon octagon'.split(),\n",
    "'Fruits':'apple orange lemon lime pear watermelon grape grapefruit cherry banana cantaloupe mango strawberry tomato'.split(),\n",
    "'Animals':'bat bear beaver cat cougar crab deer dog donkey duck eagle fish frog goat leech lion lizard monkey moose mouse otter owl panda python rabbit rat shark sheep skunk squid tiger turkey turtle weasel whale wolf wombat zebra'.split()}\n",
    "\n",
    "# Variables predefinidas\n",
    "bienvenida = '--¡Comienza el juego!--'\n",
    "adivina_key =('Elige una de las siguientes categorias, usando su número')\n",
    "adivina_value = ('Adivina la palabra de la categoría')\n",
    "adivina = '¿Era la palabra que buscabamos?'\n",
    "categorias = {1:'Colors', 2:'Shapes', 3:'Fruits', 4:'Animals'}\n",
    "\n",
    "# Inicio del juego\n",
    "keys_list = list(words.keys())\n",
    "print(bienvenida)\n",
    "\n",
    "# Elegir una categoria\n",
    "print (adivina_key) # Le imprimimos el mensaje de que nos indique una key\n",
    "print(categorias) # Le imprimios las categorias entre las que puede elegir\n",
    "eleccion1 = int(input(adivina_key)) # Le hacemos elegir\n",
    "\n",
    "print('Elegiste la categoria',eleccion1) \n",
    "\n",
    "# El ordenador elige una palabra de la categoria\n",
    "list_keys = keys_list[int(eleccion1)-1] # Creamos una lista de las keys, para poder iterar entre ellas usando \n",
    "#                                          el numero que nos ha dado el usuario\n",
    "list_values = words[list_keys] # Creamos la lista de los values,de la categoria seleccionada en el diccionario\n",
    "\n",
    "word_secreta = random.randint(0, len(list_values)-1) # Buscamos el índice de la palabra secreta en la lista de values\n",
    "word_secreta2 = list_values[word_secreta] # Sacamos la palabra de la lista en el índice marcado en word_secreta\n",
    "\n",
    "# Adivinar una palabra\n",
    "print (adivina_value) # Le imprimimos el mensaje de que nos indique un value\n",
    "print(list_values) # Le imprimios las palabras entre las que puede elegir\n",
    "eleccion_2 = input(adivina_value)  # Le hacemos elegir\n",
    "\n",
    "print('Elegiste la palabra', (eleccion_2))\n",
    "\n",
    "# Era la palabra aleatoria?\n",
    "print(adivina)\n",
    "word_secreta2 == str(eleccion_2) # Condicion de que nos devuelva si era la palabra o no con un bool\n",
    "if word_secreta2 == eleccion_2:\n",
    "    print(True)\n",
    "else:\n",
    "    print(False)\n",
    "\n",
    "# Fin del juego\n",
    "print ('-- El juego ha terminado, la palabra era', word_secreta2, '--')"
   ]
  }
 ],
 "metadata": {
  "kernelspec": {
   "display_name": "Python 3.9.7 ('base')",
   "language": "python",
   "name": "python3"
  },
  "language_info": {
   "codemirror_mode": {
    "name": "ipython",
    "version": 3
   },
   "file_extension": ".py",
   "mimetype": "text/x-python",
   "name": "python",
   "nbconvert_exporter": "python",
   "pygments_lexer": "ipython3",
   "version": "3.9.7"
  },
  "orig_nbformat": 4,
  "vscode": {
   "interpreter": {
    "hash": "40d3a090f54c6569ab1632332b64b2c03c39dcf918b08424e98f38b5ae0af88f"
   }
  }
 },
 "nbformat": 4,
 "nbformat_minor": 2
}
