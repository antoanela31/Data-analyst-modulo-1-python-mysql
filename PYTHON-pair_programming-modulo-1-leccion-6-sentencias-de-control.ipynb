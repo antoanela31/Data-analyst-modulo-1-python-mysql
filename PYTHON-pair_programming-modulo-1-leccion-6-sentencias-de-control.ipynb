{
 "cells": [
  {
   "cell_type": "code",
   "execution_count": 1,
   "metadata": {},
   "outputs": [
    {
     "name": "stdout",
     "output_type": "stream",
     "text": [
      "80\n"
     ]
    }
   ],
   "source": [
    "# Ejercicio 1 \n",
    "# Definición de variable x: \n",
    "x = int(input ('Número entre el 0 al 100'))\n",
    "\n",
    "# Si utilizamos variables en vex de comparaciones de x, no nos imprime nada en la condición\n",
    "F = x < 25\n",
    "E = 25 <= x < 45\n",
    "D = 45 <= x < 50\n",
    "C = 50 <= x < 60\n",
    "B = 60 <= x < 80\n",
    "A = x >= 80\n",
    "\n",
    "print (x)\n"
   ]
  },
  {
   "cell_type": "code",
   "execution_count": 2,
   "metadata": {},
   "outputs": [
    {
     "name": "stdout",
     "output_type": "stream",
     "text": [
      "Tu nota es A\n"
     ]
    }
   ],
   "source": [
    "# Hacemos la condición para saber qué letra corresponde con la nota:\n",
    "if x < 25:\n",
    "    print (\"Tu nota es F\")\n",
    "elif 25 <= x < 45:\n",
    "    print (\"Tu nota es E\")\n",
    "elif 45 <= x < 50:\n",
    "    print (\"Tu nota es D\")\n",
    "elif 50 <= x < 60:\n",
    "    print (\"Tu nota es C\")\n",
    "elif 60 <= x < 80:\n",
    "    print (\"Tu nota es B\")\n",
    "elif x >= 80:\n",
    "    print (\"Tu nota es A\")"
   ]
  },
  {
   "cell_type": "code",
   "execution_count": 18,
   "metadata": {},
   "outputs": [],
   "source": [
    "# Ejercicio 2 \n",
    "# Definicición variables\n",
    "\n",
    "edad_persona1 = int(input (\"¿Cual es tu edad?\"))\n",
    "edad_persona2 = int(input (\"¿Cual es tu edad?\"))\n",
    "edad_persona3 = int(input (\"¿Cual es tu edad?\"))"
   ]
  },
  {
   "cell_type": "code",
   "execution_count": 19,
   "metadata": {},
   "outputs": [
    {
     "name": "stdout",
     "output_type": "stream",
     "text": [
      "35 49 24\n"
     ]
    }
   ],
   "source": [
    "print(edad_persona1, edad_persona2, edad_persona3)"
   ]
  },
  {
   "cell_type": "code",
   "execution_count": 20,
   "metadata": {},
   "outputs": [
    {
     "name": "stdout",
     "output_type": "stream",
     "text": [
      "Persona 3, eres el más joven\n",
      "Persona 2, eres el más viejo\n"
     ]
    }
   ],
   "source": [
    "if edad_persona1 <= edad_persona2 and edad_persona1 <= edad_persona3:\n",
    "    print (\"Persona 1, eres el más joven\")\n",
    "elif edad_persona2 <= edad_persona1 and edad_persona2 <= edad_persona3:\n",
    "    print ('Persona 2, eres el más joven')\n",
    "elif edad_persona3 <= edad_persona1 and edad_persona3 <= edad_persona2:\n",
    "    print ('Persona 3, eres el más joven')\n",
    "\n",
    "if edad_persona1 >= edad_persona2 and edad_persona1 >= edad_persona3:\n",
    "    print (\"Persona 1, eres el más viejo\")\n",
    "elif edad_persona2 >= edad_persona1 and edad_persona2 >= edad_persona3:\n",
    "    print ('Persona 2, eres el más viejo')\n",
    "elif edad_persona3 >= edad_persona1 and edad_persona3 >= edad_persona2:\n",
    "    print ('Persona 3, eres el más viejo')\n"
   ]
  },
  {
   "cell_type": "code",
   "execution_count": 6,
   "metadata": {},
   "outputs": [
    {
     "name": "stdout",
     "output_type": "stream",
     "text": [
      "Buenos días Paula\n"
     ]
    }
   ],
   "source": [
    "# Ejercicio 3\n",
    "# Definición de variable nombre:\n",
    "nombre = input ('¿Cuál es tu nombre?')\n",
    "\n",
    "if nombre == 'Bond':\n",
    "    print ('Bienvenido a bordo de 007')\n",
    "else:\n",
    "    print ('Buenos días', nombre)"
   ]
  },
  {
   "cell_type": "code",
   "execution_count": 7,
   "metadata": {},
   "outputs": [
    {
     "data": {
      "text/plain": [
       "69593"
      ]
     },
     "execution_count": 7,
     "metadata": {},
     "output_type": "execute_result"
    }
   ],
   "source": [
    "# Ejercicio 4\n",
    "tree = {\"Taiwan\": 69593,\n",
    "        \"Japan\": 49894, \n",
    "        \"Russia\": 41396, \n",
    "        \"Canada\": 36388, \n",
    "        \"Bulgaria\": 24987}\n",
    "\n",
    "tree['Taiwan'] # Podemos llegar al valor numérico (value), a partir del key del diccionario\n"
   ]
  },
  {
   "cell_type": "code",
   "execution_count": 8,
   "metadata": {},
   "outputs": [],
   "source": [
    "# Creamos una lista vacía en la que iremos añadiendo los países en caso que cumplan la condición\n",
    "masarboles = []\n",
    "if tree['Taiwan'] > 20000:\n",
    "    masarboles.append('Taiwan')\n",
    "if tree['Japan'] > 20000:\n",
    "    masarboles.append('Japan')\n",
    "if tree['Russia'] > 20000:\n",
    "    masarboles.append('Russia')\n",
    "if tree['Canada'] > 20000:\n",
    "    masarboles.append('Canada')\n",
    "if tree['Bulgaria'] > 20000:\n",
    "    masarboles.append('Bulgaria')"
   ]
  },
  {
   "cell_type": "code",
   "execution_count": 9,
   "metadata": {},
   "outputs": [
    {
     "name": "stdout",
     "output_type": "stream",
     "text": [
      "['Taiwan', 'Japan', 'Russia', 'Canada', 'Bulgaria']\n"
     ]
    }
   ],
   "source": [
    "print(masarboles)"
   ]
  },
  {
   "cell_type": "code",
   "execution_count": 78,
   "metadata": {},
   "outputs": [
    {
     "name": "stdout",
     "output_type": "stream",
     "text": [
      "['maria', 'femenino']\n"
     ]
    }
   ],
   "source": [
    "# Ejercicio 5\n",
    "# Preguntando nombre y sexo al usuario\n",
    "nombreysexo = input ('Especifica tu nombre y sexo en formato nombre-sexo(femenino-masculino)')\n",
    "listname = nombreysexo.split('-')\n",
    "print (listname)\n"
   ]
  },
  {
   "cell_type": "code",
   "execution_count": 79,
   "metadata": {},
   "outputs": [],
   "source": [
    "listleter = list(listname[0]) #Accedemos al índice 0 de la lista, es decir, al nombre de la persona"
   ]
  },
  {
   "cell_type": "code",
   "execution_count": 80,
   "metadata": {},
   "outputs": [
    {
     "data": {
      "text/plain": [
       "'m'"
      ]
     },
     "execution_count": 80,
     "metadata": {},
     "output_type": "execute_result"
    }
   ],
   "source": [
    "listleter [0] #Accedemos a la primera letra del nombre"
   ]
  },
  {
   "cell_type": "code",
   "execution_count": 81,
   "metadata": {},
   "outputs": [],
   "source": [
    "str1 = 'abcdefghijklm' # Creamos dos strings para que contengan las letras que nos dice el enunciado\n",
    "str2 = 'nopqrstuvwxyz'"
   ]
  },
  {
   "cell_type": "code",
   "execution_count": 82,
   "metadata": {},
   "outputs": [
    {
     "name": "stdout",
     "output_type": "stream",
     "text": [
      "Perteneces al grupo A\n"
     ]
    }
   ],
   "source": [
    "#       Creamos un condicional en el que nos separe por grupo segun inicial del nombre que encontramos\n",
    "#       en [listleter[0]] y según sexo, que encontramos definido en [listname1]. Como este último solo\n",
    "#       puede ser masculino o femenino, podemos hacer una comparación de tipo ==.\n",
    "if (listleter[0] in str1 and listname[1] == 'femenino') or (listleter[0] in str2 and listname[1] == 'masculino'):\n",
    "    print('Perteneces al grupo A')\n",
    "else:\n",
    "    print('Perteneces al grupo B')"
   ]
  },
  {
   "cell_type": "code",
   "execution_count": 83,
   "metadata": {},
   "outputs": [
    {
     "name": "stdout",
     "output_type": "stream",
     "text": [
      "0\n",
      "1\n",
      "2\n"
     ]
    }
   ],
   "source": [
    "# Ejercicio 6\n",
    "z = 0\n",
    "list_z = []\n",
    "while z < 3:\n",
    "    if z == 0:\n",
    "        print(z)\n",
    "        list_z.append(z)\n",
    "        z += 1\n",
    "    if z == 1:\n",
    "        print(z)\n",
    "        list_z.append(z)\n",
    "        z += 1\n",
    "    else:\n",
    "        print(z)\n",
    "        z += 1\n",
    "\n"
   ]
  },
  {
   "cell_type": "code",
   "execution_count": 84,
   "metadata": {},
   "outputs": [
    {
     "name": "stdout",
     "output_type": "stream",
     "text": [
      "[0, 1, 2, 3]\n"
     ]
    }
   ],
   "source": [
    "# Ejercicio 7\n",
    "lista_vacia = []\n",
    "variable = 0\n",
    "\n",
    "while len(lista_vacia) < 4:\n",
    "    lista_vacia.append(variable)\n",
    "    variable += 1\n",
    "print (lista_vacia)"
   ]
  },
  {
   "cell_type": "code",
   "execution_count": 98,
   "metadata": {},
   "outputs": [
    {
     "name": "stdout",
     "output_type": "stream",
     "text": [
      "115\n"
     ]
    }
   ],
   "source": [
    "# Ejercicio 8\n",
    "i = 0\n",
    "list_num = [23, 45, 12, 10, 25]\n",
    "suma = 0\n",
    "\n",
    "while i < len(list_num):\n",
    "    suma = list_num[0] + list_num[1] + list_num[2] + list_num[3] + list_num [4]\n",
    "    i += 1\n",
    "print(suma)"
   ]
  },
  {
   "cell_type": "code",
   "execution_count": 102,
   "metadata": {},
   "outputs": [
    {
     "name": "stdout",
     "output_type": "stream",
     "text": [
      "Tu entrada cuesta 5€\n"
     ]
    }
   ],
   "source": [
    "# Ejercicio 9\n",
    "edad = int(input ('¿Qué edad tienes?'))\n",
    "\n",
    "if edad < 4:\n",
    "    print('Tu entrada es gratuita por ser menor de 4 años')\n",
    "if 4 < edad < 18:\n",
    "    print ('Tu entrada cuesta 5€')\n",
    "if edad >= 18:\n",
    "    print ('Tu entrada cuesta 10€')"
   ]
  },
  {
   "cell_type": "code",
   "execution_count": 105,
   "metadata": {},
   "outputs": [
    {
     "name": "stdout",
     "output_type": "stream",
     "text": [
      "Peperoni, Jamón y Salmón.\n",
      "['Mozzarela', 'Tomate', 'Jamón']\n"
     ]
    }
   ],
   "source": [
    "# Ejercicio 10\n",
    "Ingredientes_vegetarianos = 'Pimiento y tofu.'\n",
    "Ingredientes_no_vegetarianos = 'Peperoni, Jamón y Salmón.'\n",
    "\n",
    "cliente = input('¿Quieres la pizza vegetariana? Responde con si o no')\n",
    "eleccion = ['Mozzarela','Tomate']\n",
    "\n",
    "if cliente == 'si':\n",
    "    print(Ingredientes_vegetarianos)\n",
    "    elige = (input('Elige los ingredientes'))\n",
    "    eleccion.append(elige)\n",
    "else:\n",
    "    print(Ingredientes_no_vegetarianos)\n",
    "    elige = (input('Elige los ingredientes'))\n",
    "    eleccion.append(elige)\n",
    "print(eleccion)"
   ]
  }
 ],
 "metadata": {
  "kernelspec": {
   "display_name": "Python 3.9.7 ('base')",
   "language": "python",
   "name": "python3"
  },
  "language_info": {
   "codemirror_mode": {
    "name": "ipython",
    "version": 3
   },
   "file_extension": ".py",
   "mimetype": "text/x-python",
   "name": "python",
   "nbconvert_exporter": "python",
   "pygments_lexer": "ipython3",
   "version": "3.9.7"
  },
  "orig_nbformat": 4,
  "vscode": {
   "interpreter": {
    "hash": "40d3a090f54c6569ab1632332b64b2c03c39dcf918b08424e98f38b5ae0af88f"
   }
  }
 },
 "nbformat": 4,
 "nbformat_minor": 2
}
