{
 "cells": [
  {
   "cell_type": "markdown",
   "metadata": {},
   "source": [
    "Ejercicio pair programming 7 bucles for:"
   ]
  },
  {
   "cell_type": "code",
   "execution_count": 12,
   "metadata": {},
   "outputs": [],
   "source": [
    "# Ejercicio 1\n",
    "#   Le pedimos al usuario que nos indique la información de la inversion\n",
    "inversion = int(input('Inversión'))\n",
    "interes = int(input('Interés anual'))/100\n",
    "años = range(int(input('Años'))) # Tenemos que crear un rango para que sea iterable\n",
    "ganancias = 0 # Creamos un numero 0 para que se vayan sumando las ganancias anuales y poder calcular el\n",
    "#               interés de forma anual contando las ganancias anteriores"
   ]
  },
  {
   "cell_type": "code",
   "execution_count": 13,
   "metadata": {},
   "outputs": [
    {
     "name": "stdout",
     "output_type": "stream",
     "text": [
      "año 0 -----> 100.0\n",
      "año 1 -----> 102.0\n",
      "año 2 -----> 102.04\n",
      "año 3 -----> 102.0408\n",
      "año 4 -----> 102.04081599999999\n"
     ]
    }
   ],
   "source": [
    "for a in años:\n",
    "    ganancias = (inversion + ganancias) * interes # De esta forma estamos calculando el interés, teniendoen cuenta las ganancias del año anterior\n",
    "    print('año',a, '----->',ganancias)"
   ]
  },
  {
   "cell_type": "code",
   "execution_count": 27,
   "metadata": {},
   "outputs": [
    {
     "name": "stdout",
     "output_type": "stream",
     "text": [
      "me gusta mucho mirar la tele\n",
      "m\n"
     ]
    }
   ],
   "source": [
    "# Ejercicio 2\n",
    "\n",
    "frase = input('Escribe una frase')\n",
    "letra = input ('Elige una letra')\n",
    "\n",
    "print(frase)\n",
    "print(letra)"
   ]
  },
  {
   "cell_type": "code",
   "execution_count": 28,
   "metadata": {},
   "outputs": [],
   "source": [
    "# Definimos una variable que vaya sumando las veces que aparece la palabra en la lista\n",
    "suma_palabras = 0"
   ]
  },
  {
   "cell_type": "code",
   "execution_count": 29,
   "metadata": {},
   "outputs": [
    {
     "name": "stdout",
     "output_type": "stream",
     "text": [
      "3\n"
     ]
    }
   ],
   "source": [
    "for f in frase: # por cada elemento de la frase\n",
    "    if letra in frase: # si encuentras la letra definida en la frase\n",
    "        contar = frase.count(letra) # definimos una variable que nos añada las veces que la letra aparece en la frase\n",
    "print(contar)"
   ]
  },
  {
   "cell_type": "code",
   "execution_count": 55,
   "metadata": {},
   "outputs": [
    {
     "name": "stdout",
     "output_type": "stream",
     "text": [
      "5 x 0 = 0\n",
      "5 x 1 = 5\n",
      "5 x 2 = 10\n",
      "5 x 3 = 15\n",
      "5 x 4 = 20\n",
      "5 x 5 = 25\n",
      "5 x 6 = 30\n",
      "5 x 7 = 35\n",
      "5 x 8 = 40\n",
      "5 x 9 = 45\n",
      "5 x 10 = 50\n"
     ]
    }
   ],
   "source": [
    "# Ejercicio 3\n",
    "\n",
    "x = int(input('Elige un número para ver su tabla de multiplicar')) # Queremos que el numero que nos den sea\n",
    "#                                                                    un integer, para poder operar con el\n",
    "\n",
    "for f in range(10+1):  # Le estamos diciendo que itere por todos los elementos del rango\n",
    "    print(f'{x} x {f} = {x*f}')"
   ]
  },
  {
   "cell_type": "code",
   "execution_count": 56,
   "metadata": {},
   "outputs": [
    {
     "name": "stdout",
     "output_type": "stream",
     "text": [
      "75\n",
      "150\n",
      "180\n",
      "145\n",
      "525\n"
     ]
    }
   ],
   "source": [
    "# Ejercicio 4\n",
    "\n",
    "numbers = [12, 75, 150, 180, 145, 525, 50]\n",
    "\n",
    "for n in numbers:\n",
    "    if n%5 == 0: # Si el número es divisible entre 5, su residuo es 0\n",
    "        print(n)\n",
    "    if n > 150:\n",
    "        pass # pasa al siguiente número\n",
    "    if n > 500:\n",
    "        break # parame el codigos"
   ]
  },
  {
   "cell_type": "code",
   "execution_count": 62,
   "metadata": {},
   "outputs": [
    {
     "name": "stdout",
     "output_type": "stream",
     "text": [
      "[50, 40, 30, 20, 10]\n"
     ]
    }
   ],
   "source": [
    "# Ejercicio 5\n",
    "\n",
    "list1 = [10, 20, 30, 40, 50]\n",
    "\n",
    "for l in list1:\n",
    "    list1.sort(reverse=True) # Pedimos que nos ordene la lista (sort) con el orden invertido (reverse=true)\n",
    "print(list1)"
   ]
  },
  {
   "cell_type": "code",
   "execution_count": 63,
   "metadata": {},
   "outputs": [
    {
     "ename": "TypeError",
     "evalue": "unsupported operand type(s) for ** or pow(): 'str' and 'int'",
     "output_type": "error",
     "traceback": [
      "\u001b[0;31m---------------------------------------------------------------------------\u001b[0m",
      "\u001b[0;31mTypeError\u001b[0m                                 Traceback (most recent call last)",
      "\u001b[0;32m/var/folders/fk/9dj5qplx5dv2l_dlsz8sf1pw0000gn/T/ipykernel_9940/2777262952.py\u001b[0m in \u001b[0;36m<module>\u001b[0;34m\u001b[0m\n\u001b[1;32m      2\u001b[0m \u001b[0;34m\u001b[0m\u001b[0m\n\u001b[1;32m      3\u001b[0m \u001b[0;32mfor\u001b[0m \u001b[0mi\u001b[0m \u001b[0;32min\u001b[0m \u001b[0;34m[\u001b[0m\u001b[0;34m'1'\u001b[0m\u001b[0;34m,\u001b[0m\u001b[0;34m'2'\u001b[0m\u001b[0;34m,\u001b[0m\u001b[0;34m'3'\u001b[0m\u001b[0;34m]\u001b[0m\u001b[0;34m:\u001b[0m\u001b[0;34m\u001b[0m\u001b[0;34m\u001b[0m\u001b[0m\n\u001b[0;32m----> 4\u001b[0;31m     \u001b[0mprint\u001b[0m \u001b[0;34m(\u001b[0m\u001b[0mi\u001b[0m\u001b[0;34m**\u001b[0m\u001b[0;36m2\u001b[0m\u001b[0;34m)\u001b[0m\u001b[0;34m\u001b[0m\u001b[0;34m\u001b[0m\u001b[0m\n\u001b[0m",
      "\u001b[0;31mTypeError\u001b[0m: unsupported operand type(s) for ** or pow(): 'str' and 'int'"
     ]
    }
   ],
   "source": [
    "# Ejercicio 6\n",
    "# Vamos a ver qué error nos da para poder decirle que en caso que de este error nos lo arregle con otro codigo\n",
    "\n",
    "for i in ['1','2','3']:\n",
    "    print (i**2)"
   ]
  },
  {
   "cell_type": "code",
   "execution_count": 64,
   "metadata": {},
   "outputs": [
    {
     "name": "stdout",
     "output_type": "stream",
     "text": [
      "1\n",
      "4\n",
      "9\n"
     ]
    }
   ],
   "source": [
    "for i in ['1','2','3']:\n",
    "    try:\n",
    "        print (i**2)\n",
    "    except: TypeError # cuando te de este error, me haces lo de abajo\n",
    "    print(int(i)**2) # aquí le arreglamos el error anterior indicandole que i es un integer, para que \n",
    "    #                 pueda operar con los números             \n",
    "    "
   ]
  }
 ],
 "metadata": {
  "kernelspec": {
   "display_name": "Python 3.9.7 ('base')",
   "language": "python",
   "name": "python3"
  },
  "language_info": {
   "codemirror_mode": {
    "name": "ipython",
    "version": 3
   },
   "file_extension": ".py",
   "mimetype": "text/x-python",
   "name": "python",
   "nbconvert_exporter": "python",
   "pygments_lexer": "ipython3",
   "version": "3.9.7"
  },
  "orig_nbformat": 4,
  "vscode": {
   "interpreter": {
    "hash": "40d3a090f54c6569ab1632332b64b2c03c39dcf918b08424e98f38b5ae0af88f"
   }
  }
 },
 "nbformat": 4,
 "nbformat_minor": 2
}
