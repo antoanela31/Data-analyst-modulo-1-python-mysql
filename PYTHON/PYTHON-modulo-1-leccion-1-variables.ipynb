{
 "cells": [
  {
   "attachments": {},
   "cell_type": "markdown",
   "metadata": {},
   "source": [
    "## Ejercicio 1 variables:"
   ]
  },
  {
   "attachments": {},
   "cell_type": "markdown",
   "metadata": {},
   "source": [
    "Vamos a construir unos juegos a lo largo de las sesiones de pair programming. Hoy vamos a establecer la base del juego. El objetivo es que el ordenador \"piense\" en un número, y que el usuario tenga una cantidad de intentos limitada para adivinar qué número es. Como es vuestro primer código os damos una plantilla. El contenido de esta plantilla no tenéis que entenderlo, los apartados os sirven para estructurar vuestro pensamiento y las líneas ya escritas requieren conocimientos que todavía no hemos tocado."
   ]
  },
  {
   "cell_type": "code",
   "execution_count": 1,
   "metadata": {},
   "outputs": [
    {
     "name": "stdout",
     "output_type": "stream",
     "text": [
      "Comenzamos el juego\n",
      "Tienes 2 intentos para adivinar el numero entre el 3 y 6\n",
      "Intento 1: 6\n",
      "Terminamos el juego. El numero era 6 ¿lo adivinaste?\n"
     ]
    }
   ],
   "source": [
    "import math\n",
    "import random\n",
    "\n",
    "# Variables numéricas\n",
    "\n",
    "\n",
    "# Cadenas fijas de texto\n",
    "x = \"Comenzamos el juego\"\n",
    "\n",
    "# User input\n",
    "intento_x = input(\"Tienes 2 intentos para adivinar el numero entre el 3 y 6\")\n",
    "\n",
    "# Cantidades calculadas\n",
    "\n",
    "\n",
    "# Inicio del juego\n",
    "print(x)\n",
    "print(\"Tienes 2 intentos para adivinar el numero entre el 3 y 6\")\n",
    "\n",
    "# Adivinar 1 intento\n",
    "print(\"Intento 1:\", intento_x)\n",
    "\n",
    "# Fin del juego\n",
    "print(\"Terminamos el juego. El numero era\", intento_x, \"¿lo adivinaste?\") "
   ]
  }
 ],
 "metadata": {
  "kernelspec": {
   "display_name": "base",
   "language": "python",
   "name": "python3"
  },
  "language_info": {
   "codemirror_mode": {
    "name": "ipython",
    "version": 3
   },
   "file_extension": ".py",
   "mimetype": "text/x-python",
   "name": "python",
   "nbconvert_exporter": "python",
   "pygments_lexer": "ipython3",
   "version": "3.9.7 (default, Sep 16 2021, 13:09:58) \n[GCC 7.5.0]"
  },
  "orig_nbformat": 4,
  "vscode": {
   "interpreter": {
    "hash": "e52e54b208979dc3580fb1371da7079de391a2363b0575de5d9739fd636c0787"
   }
  }
 },
 "nbformat": 4,
 "nbformat_minor": 2
}
