{
 "cells": [
  {
   "attachments": {},
   "cell_type": "markdown",
   "metadata": {},
   "source": [
    "Ejercicio 2 listas:\n"
   ]
  },
  {
   "attachments": {},
   "cell_type": "markdown",
   "metadata": {},
   "source": [
    "En el juego de hoy vamos a pedir al usuario que meta una lista de números, separados por espacios, para adivinar el número secreto. Mirad vuestro código de ayer para reutilizar trozos de ahí. Las líneas de num_list y numero_secreto no las tenéis que entender ni tocar."
   ]
  },
  {
   "cell_type": "code",
   "execution_count": 27,
   "metadata": {},
   "outputs": [
    {
     "name": "stdout",
     "output_type": "stream",
     "text": [
      "Comenzamos el juego!\n",
      "La lista facilitada por el usuario es:  [3, 4, 5, 6]\n",
      "Tiene  4 elementos entre  3 a  6 .\n",
      "Han adivinado el número secreto? \n",
      " True\n",
      "Terminamos el juego. El numero era 5\n"
     ]
    }
   ],
   "source": [
    "import random\n",
    "\n",
    "# Variables numéricas\n",
    "lim_inferior = 3\n",
    "lim_superior = 6\n",
    "\n",
    "# Cadenas fijas de texto\n",
    "x = \"Comenzamos el juego!\"\n",
    "str_input = \"Lista de números, separado por espacios: \"\n",
    "\n",
    "# User input\n",
    "num_list = list(int(num) for num in input(str_input).strip().split())\n",
    "\n",
    "# Cantidades calculadas\n",
    "numero_secreto = random.randint(lim_inferior,lim_superior)\n",
    "\n",
    "# Inicio del juego\n",
    "print(x)\n",
    "\n",
    "# Propiedades de la lista\n",
    "print(\"La lista facilitada por el usuario es: \", num_list)\n",
    "print(\"Tiene \", len(num_list), \"elementos entre \", min(num_list), \"a \", max(num_list), \".\")\n",
    "\n",
    "# Han adivinado el número secreto?\n",
    "print(\"Han adivinado el número secreto?\", \"\\n\", numero_secreto in num_list)\n",
    "\n",
    "# Fin del juego\n",
    "print(\"Terminamos el juego. El numero era\", numero_secreto) "
   ]
  }
 ],
 "metadata": {
  "kernelspec": {
   "display_name": "Python 3",
   "language": "python",
   "name": "python3"
  },
  "language_info": {
   "codemirror_mode": {
    "name": "ipython",
    "version": 3
   },
   "file_extension": ".py",
   "mimetype": "text/x-python",
   "name": "python",
   "nbconvert_exporter": "python",
   "pygments_lexer": "ipython3",
   "version": "3.6.9 (default, Mar 15 2022, 13:55:28) \n[GCC 8.4.0]"
  },
  "orig_nbformat": 4,
  "vscode": {
   "interpreter": {
    "hash": "31f2aee4e71d21fbe5cf8b01ff0e069b9275f58929596ceb00d14d90e3e16cd6"
   }
  }
 },
 "nbformat": 4,
 "nbformat_minor": 2
}
